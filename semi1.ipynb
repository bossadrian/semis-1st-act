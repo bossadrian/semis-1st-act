{
 "cells": [
  {
   "cell_type": "code",
   "execution_count": null,
   "metadata": {},
   "outputs": [],
   "source": [
    "# Create a dictionary\n",
    "my_dict = {\n",
    "    \"name\": \"John\",\n",
    "    \"age\": 30,\n",
    "    \"city\": \"New York\"\n",
    "}\n",
    "\n",
    "# Accessing values in a dictionary\n",
    "print(my_dict[\"name\"])  # Output: John\n",
    "print(my_dict[\"age\"])   # Output: 30\n",
    "\n",
    "# Adding a new key-value pair\n",
    "my_dict[\"job\"] = \"Engineer\"\n",
    "\n",
    "# Updating a value\n",
    "my_dict[\"age\"] = 31\n",
    "\n",
    "# Removing a key-value pair\n",
    "del my_dict[\"city\"]\n",
    "\n",
    "# Checking if a key exists in the dictionary\n",
    "if \"job\" in my_dict:\n",
    "    print(\"Job exists:\", my_dict[\"job\"])\n",
    "\n",
    "# Looping through the dictionary\n",
    "for key, value in my_dict.items():\n",
    "    print(key, \":\", value)"
   ]
  }
 ],
 "metadata": {
  "kernelspec": {
   "display_name": "Python 3 (ipykernel)",
   "language": "python",
   "name": "python3"
  },
  "language_info": {
   "codemirror_mode": {
    "name": "ipython",
    "version": 3
   },
   "file_extension": ".py",
   "mimetype": "text/x-python",
   "name": "python",
   "nbconvert_exporter": "python",
   "pygments_lexer": "ipython3",
   "version": "3.11.0"
  }
 },
 "nbformat": 4,
 "nbformat_minor": 4
}
